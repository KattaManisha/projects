{
 "cells": [
  {
   "cell_type": "markdown",
   "metadata": {},
   "source": [
    "# Guess the Secret Number Game :"
   ]
  },
  {
   "cell_type": "markdown",
   "metadata": {},
   "source": [
    "## Challenge - 1 :"
   ]
  },
  {
   "cell_type": "raw",
   "metadata": {},
   "source": [
    "Task-1 : The computer will think of a random number from 1 to 10 as secret number\n",
    "Task-2 : Then ask you ( Player ) to guess the number and store as guess number\n",
    "Task-3 : Compare the guess number with the secret number,\n",
    "         If the player guesses the right number he wins, so print player wins and computer loses.\n",
    "         If the player guesses the wrong number, then he loses so print player loses and computer wins.    "
   ]
  },
  {
   "cell_type": "markdown",
   "metadata": {},
   "source": [
    "Task-1 : The computer will think of a random number from 1 to 10 as secret number"
   ]
  },
  {
   "cell_type": "code",
   "execution_count": 1,
   "metadata": {},
   "outputs": [],
   "source": [
    "import random"
   ]
  },
  {
   "cell_type": "code",
   "execution_count": 2,
   "metadata": {},
   "outputs": [
    {
     "name": "stdout",
     "output_type": "stream",
     "text": [
      "['BPF', 'LOG4', 'NV_MAGICCONST', 'RECIP_BPF', 'Random', 'SG_MAGICCONST', 'SystemRandom', 'TWOPI', '_Sequence', '_Set', '__all__', '__builtins__', '__cached__', '__doc__', '__file__', '__loader__', '__name__', '__package__', '__spec__', '_accumulate', '_acos', '_bisect', '_ceil', '_cos', '_e', '_exp', '_inst', '_log', '_os', '_pi', '_random', '_repeat', '_sha512', '_sin', '_sqrt', '_test', '_test_generator', '_urandom', '_warn', 'betavariate', 'choice', 'choices', 'expovariate', 'gammavariate', 'gauss', 'getrandbits', 'getstate', 'lognormvariate', 'normalvariate', 'paretovariate', 'randint', 'random', 'randrange', 'sample', 'seed', 'setstate', 'shuffle', 'triangular', 'uniform', 'vonmisesvariate', 'weibullvariate']\n"
     ]
    }
   ],
   "source": [
    "print(dir(random))"
   ]
  },
  {
   "cell_type": "code",
   "execution_count": 3,
   "metadata": {},
   "outputs": [
    {
     "name": "stdout",
     "output_type": "stream",
     "text": [
      "Help on class Random in random:\n",
      "\n",
      "random.Random = class Random(_random.Random)\n",
      " |  random.Random(x=None)\n",
      " |  \n",
      " |  Random number generator base class used by bound module functions.\n",
      " |  \n",
      " |  Used to instantiate instances of Random to get generators that don't\n",
      " |  share state.\n",
      " |  \n",
      " |  Class Random can also be subclassed if you want to use a different basic\n",
      " |  generator of your own devising: in that case, override the following\n",
      " |  methods:  random(), seed(), getstate(), and setstate().\n",
      " |  Optionally, implement a getrandbits() method so that randrange()\n",
      " |  can cover arbitrarily large ranges.\n",
      " |  \n",
      " |  Method resolution order:\n",
      " |      Random\n",
      " |      _random.Random\n",
      " |      builtins.object\n",
      " |  \n",
      " |  Methods defined here:\n",
      " |  \n",
      " |  __getstate__(self)\n",
      " |      # Issue 17489: Since __reduce__ was defined to fix #759889 this is no\n",
      " |      # longer called; we leave it here because it has been here since random was\n",
      " |      # rewritten back in 2001 and why risk breaking something.\n",
      " |  \n",
      " |  __init__(self, x=None)\n",
      " |      Initialize an instance.\n",
      " |      \n",
      " |      Optional argument x controls seeding, as for Random.seed().\n",
      " |  \n",
      " |  __reduce__(self)\n",
      " |      Helper for pickle.\n",
      " |  \n",
      " |  __setstate__(self, state)\n",
      " |  \n",
      " |  betavariate(self, alpha, beta)\n",
      " |      Beta distribution.\n",
      " |      \n",
      " |      Conditions on the parameters are alpha > 0 and beta > 0.\n",
      " |      Returned values range between 0 and 1.\n",
      " |  \n",
      " |  choice(self, seq)\n",
      " |      Choose a random element from a non-empty sequence.\n",
      " |  \n",
      " |  choices(self, population, weights=None, *, cum_weights=None, k=1)\n",
      " |      Return a k sized list of population elements chosen with replacement.\n",
      " |      \n",
      " |      If the relative weights or cumulative weights are not specified,\n",
      " |      the selections are made with equal probability.\n",
      " |  \n",
      " |  expovariate(self, lambd)\n",
      " |      Exponential distribution.\n",
      " |      \n",
      " |      lambd is 1.0 divided by the desired mean.  It should be\n",
      " |      nonzero.  (The parameter would be called \"lambda\", but that is\n",
      " |      a reserved word in Python.)  Returned values range from 0 to\n",
      " |      positive infinity if lambd is positive, and from negative\n",
      " |      infinity to 0 if lambd is negative.\n",
      " |  \n",
      " |  gammavariate(self, alpha, beta)\n",
      " |      Gamma distribution.  Not the gamma function!\n",
      " |      \n",
      " |      Conditions on the parameters are alpha > 0 and beta > 0.\n",
      " |      \n",
      " |      The probability distribution function is:\n",
      " |      \n",
      " |                  x ** (alpha - 1) * math.exp(-x / beta)\n",
      " |        pdf(x) =  --------------------------------------\n",
      " |                    math.gamma(alpha) * beta ** alpha\n",
      " |  \n",
      " |  gauss(self, mu, sigma)\n",
      " |      Gaussian distribution.\n",
      " |      \n",
      " |      mu is the mean, and sigma is the standard deviation.  This is\n",
      " |      slightly faster than the normalvariate() function.\n",
      " |      \n",
      " |      Not thread-safe without a lock around calls.\n",
      " |  \n",
      " |  getstate(self)\n",
      " |      Return internal state; can be passed to setstate() later.\n",
      " |  \n",
      " |  lognormvariate(self, mu, sigma)\n",
      " |      Log normal distribution.\n",
      " |      \n",
      " |      If you take the natural logarithm of this distribution, you'll get a\n",
      " |      normal distribution with mean mu and standard deviation sigma.\n",
      " |      mu can have any value, and sigma must be greater than zero.\n",
      " |  \n",
      " |  normalvariate(self, mu, sigma)\n",
      " |      Normal distribution.\n",
      " |      \n",
      " |      mu is the mean, and sigma is the standard deviation.\n",
      " |  \n",
      " |  paretovariate(self, alpha)\n",
      " |      Pareto distribution.  alpha is the shape parameter.\n",
      " |  \n",
      " |  randint(self, a, b)\n",
      " |      Return random integer in range [a, b], including both end points.\n",
      " |  \n",
      " |  randrange(self, start, stop=None, step=1, _int=<class 'int'>)\n",
      " |      Choose a random item from range(start, stop[, step]).\n",
      " |      \n",
      " |      This fixes the problem with randint() which includes the\n",
      " |      endpoint; in Python this is usually not what you want.\n",
      " |  \n",
      " |  sample(self, population, k)\n",
      " |      Chooses k unique random elements from a population sequence or set.\n",
      " |      \n",
      " |      Returns a new list containing elements from the population while\n",
      " |      leaving the original population unchanged.  The resulting list is\n",
      " |      in selection order so that all sub-slices will also be valid random\n",
      " |      samples.  This allows raffle winners (the sample) to be partitioned\n",
      " |      into grand prize and second place winners (the subslices).\n",
      " |      \n",
      " |      Members of the population need not be hashable or unique.  If the\n",
      " |      population contains repeats, then each occurrence is a possible\n",
      " |      selection in the sample.\n",
      " |      \n",
      " |      To choose a sample in a range of integers, use range as an argument.\n",
      " |      This is especially fast and space efficient for sampling from a\n",
      " |      large population:   sample(range(10000000), 60)\n",
      " |  \n",
      " |  seed(self, a=None, version=2)\n",
      " |      Initialize internal state from hashable object.\n",
      " |      \n",
      " |      None or no argument seeds from current time or from an operating\n",
      " |      system specific randomness source if available.\n",
      " |      \n",
      " |      If *a* is an int, all bits are used.\n",
      " |      \n",
      " |      For version 2 (the default), all of the bits are used if *a* is a str,\n",
      " |      bytes, or bytearray.  For version 1 (provided for reproducing random\n",
      " |      sequences from older versions of Python), the algorithm for str and\n",
      " |      bytes generates a narrower range of seeds.\n",
      " |  \n",
      " |  setstate(self, state)\n",
      " |      Restore internal state from object returned by getstate().\n",
      " |  \n",
      " |  shuffle(self, x, random=None)\n",
      " |      Shuffle list x in place, and return None.\n",
      " |      \n",
      " |      Optional argument random is a 0-argument function returning a\n",
      " |      random float in [0.0, 1.0); if it is the default None, the\n",
      " |      standard random.random will be used.\n",
      " |  \n",
      " |  triangular(self, low=0.0, high=1.0, mode=None)\n",
      " |      Triangular distribution.\n",
      " |      \n",
      " |      Continuous distribution bounded by given lower and upper limits,\n",
      " |      and having a given mode value in-between.\n",
      " |      \n",
      " |      http://en.wikipedia.org/wiki/Triangular_distribution\n",
      " |  \n",
      " |  uniform(self, a, b)\n",
      " |      Get a random number in the range [a, b) or [a, b] depending on rounding.\n",
      " |  \n",
      " |  vonmisesvariate(self, mu, kappa)\n",
      " |      Circular data distribution.\n",
      " |      \n",
      " |      mu is the mean angle, expressed in radians between 0 and 2*pi, and\n",
      " |      kappa is the concentration parameter, which must be greater than or\n",
      " |      equal to zero.  If kappa is equal to zero, this distribution reduces\n",
      " |      to a uniform random angle over the range 0 to 2*pi.\n",
      " |  \n",
      " |  weibullvariate(self, alpha, beta)\n",
      " |      Weibull distribution.\n",
      " |      \n",
      " |      alpha is the scale parameter and beta is the shape parameter.\n",
      " |  \n",
      " |  ----------------------------------------------------------------------\n",
      " |  Class methods defined here:\n",
      " |  \n",
      " |  __init_subclass__(**kwargs) from builtins.type\n",
      " |      Control how subclasses generate random integers.\n",
      " |      \n",
      " |      The algorithm a subclass can use depends on the random() and/or\n",
      " |      getrandbits() implementation available to it and determines\n",
      " |      whether it can generate random integers from arbitrarily large\n",
      " |      ranges.\n",
      " |  \n",
      " |  ----------------------------------------------------------------------\n",
      " |  Data descriptors defined here:\n",
      " |  \n",
      " |  __dict__\n",
      " |      dictionary for instance variables (if defined)\n",
      " |  \n",
      " |  __weakref__\n",
      " |      list of weak references to the object (if defined)\n",
      " |  \n",
      " |  ----------------------------------------------------------------------\n",
      " |  Data and other attributes defined here:\n",
      " |  \n",
      " |  VERSION = 3\n",
      " |  \n",
      " |  ----------------------------------------------------------------------\n",
      " |  Methods inherited from _random.Random:\n",
      " |  \n",
      " |  __getattribute__(self, name, /)\n",
      " |      Return getattr(self, name).\n",
      " |  \n",
      " |  getrandbits(self, k, /)\n",
      " |      getrandbits(k) -> x.  Generates an int with k random bits.\n",
      " |  \n",
      " |  random(self, /)\n",
      " |      random() -> x in the interval [0, 1).\n",
      " |  \n",
      " |  ----------------------------------------------------------------------\n",
      " |  Static methods inherited from _random.Random:\n",
      " |  \n",
      " |  __new__(*args, **kwargs) from builtins.type\n",
      " |      Create and return a new object.  See help(type) for accurate signature.\n",
      "\n"
     ]
    }
   ],
   "source": [
    "help(\"random.Random\")"
   ]
  },
  {
   "cell_type": "code",
   "execution_count": 4,
   "metadata": {},
   "outputs": [
    {
     "name": "stdout",
     "output_type": "stream",
     "text": [
      "Help on method randint in random:\n",
      "\n",
      "random.randint = randint(a, b) method of random.Random instance\n",
      "    Return random integer in range [a, b], including both end points.\n",
      "\n"
     ]
    }
   ],
   "source": [
    "help(\"random.randint\")"
   ]
  },
  {
   "cell_type": "code",
   "execution_count": 5,
   "metadata": {},
   "outputs": [],
   "source": [
    "secret_number = random.randint(1,10)"
   ]
  },
  {
   "cell_type": "markdown",
   "metadata": {},
   "source": [
    "Task-2 : Then ask you ( Player ) to guess the number and store as guess number"
   ]
  },
  {
   "cell_type": "code",
   "execution_count": 6,
   "metadata": {},
   "outputs": [
    {
     "name": "stdout",
     "output_type": "stream",
     "text": [
      "guess the secret number from 1 to 10 : 6\n",
      "6\n"
     ]
    }
   ],
   "source": [
    "guess_number = print(int(input(\"guess the secret number from 1 to 10 : \")))"
   ]
  },
  {
   "cell_type": "markdown",
   "metadata": {},
   "source": [
    "Task-3 : Compare the guess number with the secret number,\n",
    "         If the player guesses the right number he wins, so print player wins and computer loses.\n",
    "         If the player guesses the wrong number, then he loses so print player loses and computer wins. "
   ]
  },
  {
   "cell_type": "code",
   "execution_count": 7,
   "metadata": {},
   "outputs": [
    {
     "name": "stdout",
     "output_type": "stream",
     "text": [
      "player loses,computer wins\n"
     ]
    }
   ],
   "source": [
    "if guess_number == secret_number :\n",
    "    print(\"player wins,computer loses\")\n",
    "else:\n",
    "    print(\"player loses,computer wins\")     "
   ]
  },
  {
   "cell_type": "code",
   "execution_count": 8,
   "metadata": {},
   "outputs": [
    {
     "name": "stdout",
     "output_type": "stream",
     "text": [
      "guess the secret number from 1 to 10 : 6\n",
      "6\n",
      "player loses and computer wins\n"
     ]
    }
   ],
   "source": [
    "secret_number = random.randint(1,10)\n",
    "guess_number = print(int(input(\"guess the secret number from 1 to 10 : \")))\n",
    "if guess_number==secret_number :\n",
    "    print(\"player wins and computer loses\")\n",
    "else:\n",
    "    print(\"player loses and computer wins\") "
   ]
  },
  {
   "cell_type": "markdown",
   "metadata": {},
   "source": [
    "## Challenge - 2 :"
   ]
  },
  {
   "cell_type": "raw",
   "metadata": {},
   "source": [
    "Print the secret number and guess number when Player loses using format function "
   ]
  },
  {
   "cell_type": "code",
   "execution_count": 9,
   "metadata": {},
   "outputs": [
    {
     "name": "stdout",
     "output_type": "stream",
     "text": [
      "guess the secret number from 1 to 10 : 6\n",
      "player loses and computer wins\n",
      "The secret number is: 8 and the guess number: 6 \n"
     ]
    }
   ],
   "source": [
    "secret_number = random.randint(1,10)\n",
    "guess_number = int(input(\"guess the secret number from 1 to 10 : \"))\n",
    "if guess_number==secret_number :\n",
    "    print(\"player wins and computer loses\")\n",
    "else:\n",
    "    print(\"player loses and computer wins\") \n",
    "    print(\"The secret number is: {} and the guess number: {} \".format(secret_number, guess_number))"
   ]
  },
  {
   "cell_type": "markdown",
   "metadata": {},
   "source": [
    "## Challenge - 3 :"
   ]
  },
  {
   "cell_type": "raw",
   "metadata": {},
   "source": [
    "using elif,print whether the player guessed HIGHER NUMBER or LOWER NUMBE bad guesses."
   ]
  },
  {
   "cell_type": "code",
   "execution_count": 10,
   "metadata": {},
   "outputs": [
    {
     "name": "stdout",
     "output_type": "stream",
     "text": [
      "guess the secret number from 1 to 10 : 5\n",
      "player loses and computer wins\n",
      "The secret number is: 9 and the guess number: 5 \n",
      "player guessed LOWER number than secret number\n"
     ]
    }
   ],
   "source": [
    "secret_number = random.randint(1,10)\n",
    "guess_number = int(input(\"guess the secret number from 1 to 10 : \"))\n",
    "if guess_number==secret_number :\n",
    "    print(\"player wins and computer loses\")\n",
    "else:\n",
    "    print(\"player loses and computer wins\") \n",
    "    print(\"The secret number is: {} and the guess number: {} \".format(secret_number, guess_number))\n",
    "    if guess_number>secret_number :\n",
    "        print(\"player guessed HIGHER number than secret number\")\n",
    "    elif guess_number<secret_number:\n",
    "        print(\"player guessed LOWER number than secret number\")"
   ]
  },
  {
   "cell_type": "markdown",
   "metadata": {},
   "source": [
    "## Challenge - 4 :"
   ]
  },
  {
   "cell_type": "raw",
   "metadata": {},
   "source": [
    "Let the player play again and again until he guesses the right secret number"
   ]
  },
  {
   "cell_type": "code",
   "execution_count": 11,
   "metadata": {},
   "outputs": [
    {
     "name": "stdout",
     "output_type": "stream",
     "text": [
      "Guess the secret number from 1 to 10 : 2\n",
      "player loses and computer wins\n",
      "The secret number is: 5 and the guess number: 2 \n",
      "player guessed LOWER number than secret number\n",
      " \n",
      "Guess the secret number from 1 to 10 : 4\n",
      "player loses and computer wins\n",
      "The secret number is: 7 and the guess number: 4 \n",
      "player guessed LOWER number than secret number\n",
      " \n",
      "Guess the secret number from 1 to 10 : 7\n",
      "player loses and computer wins\n",
      "The secret number is: 5 and the guess number: 7 \n",
      "player guessed HIGHER number than secret number\n",
      " \n",
      "Guess the secret number from 1 to 10 : 9\n",
      "player loses and computer wins\n",
      "The secret number is: 4 and the guess number: 9 \n",
      "player guessed HIGHER number than secret number\n",
      " \n",
      "Guess the secret number from 1 to 10 : 2\n",
      "player loses and computer wins\n",
      "The secret number is: 4 and the guess number: 2 \n",
      "player guessed LOWER number than secret number\n",
      " \n",
      "Guess the secret number from 1 to 10 : 6\n",
      "player wins and computer loses\n"
     ]
    }
   ],
   "source": [
    "while True:\n",
    "    secret_number = random.randint(1,10)\n",
    "    guess_number = int(input(\"Guess the secret number from 1 to 10 : \"))\n",
    "    if guess_number==secret_number :\n",
    "        print(\"player wins and computer loses\")\n",
    "        break\n",
    "    else:\n",
    "        print(\"player loses and computer wins\") \n",
    "        print(\"The secret number is: {} and the guess number: {} \".format(secret_number, guess_number))\n",
    "        if guess_number>secret_number :\n",
    "            print(\"player guessed HIGHER number than secret number\")\n",
    "        else:\n",
    "            print(\"player guessed LOWER number than secret number\")\n",
    "    print(\" \")        "
   ]
  },
  {
   "cell_type": "markdown",
   "metadata": {},
   "source": [
    "## challenge - 5 :"
   ]
  },
  {
   "cell_type": "raw",
   "metadata": {},
   "source": [
    "Limit the number of guesses to maximum 6 tries "
   ]
  },
  {
   "cell_type": "code",
   "execution_count": 14,
   "metadata": {},
   "outputs": [
    {
     "name": "stdout",
     "output_type": "stream",
     "text": [
      "Guess the secret number from 1 to 10 : 3\n",
      "player loses and computer wins\n",
      "The secret number is: 1 and the guess number: 3 \n",
      "player guessed HIGHER number than secret number\n",
      " \n",
      "Guess the secret number from 1 to 10 : 7\n",
      "player loses and computer wins\n",
      "The secret number is: 4 and the guess number: 7 \n",
      "player guessed HIGHER number than secret number\n",
      " \n",
      "Guess the secret number from 1 to 10 : 0\n",
      "player loses and computer wins\n",
      "The secret number is: 3 and the guess number: 0 \n",
      "player guessed LOWER number than secret number\n",
      " \n",
      "Guess the secret number from 1 to 10 : 3\n",
      "player loses and computer wins\n",
      "The secret number is: 5 and the guess number: 3 \n",
      "player guessed LOWER number than secret number\n",
      " \n",
      "Guess the secret number from 1 to 10 : 8\n",
      "player loses and computer wins\n",
      "The secret number is: 6 and the guess number: 8 \n",
      "player guessed HIGHER number than secret number\n",
      " \n",
      "Guess the secret number from 1 to 10 : 0\n",
      "player loses and computer wins\n",
      "The secret number is: 10 and the guess number: 0 \n",
      "player guessed LOWER number than secret number\n",
      " \n"
     ]
    }
   ],
   "source": [
    "max_tries = 6\n",
    "guess_count = 0\n",
    "while guess_count<max_tries:\n",
    "    secret_number = random.randint(1,10)\n",
    "    guess_number = int(input(\"Guess the secret number from 1 to 10 : \"))\n",
    "    if guess_number==secret_number :\n",
    "        print(\"player wins and computer loses\")\n",
    "        break\n",
    "    else:\n",
    "        guess_count = guess_count + 1\n",
    "        print(\"player loses and computer wins\") \n",
    "        print(\"The secret number is: {} and the guess number: {} \".format(secret_number, guess_number))\n",
    "        if guess_number>secret_number :\n",
    "            print(\"player guessed HIGHER number than secret number\")\n",
    "        else:\n",
    "            print(\"player guessed LOWER number than secret number\")\n",
    "    print(\" \")        "
   ]
  },
  {
   "cell_type": "markdown",
   "metadata": {},
   "source": [
    "## challenge - 6 :"
   ]
  },
  {
   "cell_type": "raw",
   "metadata": {},
   "source": [
    "Print the number of tries left "
   ]
  },
  {
   "cell_type": "code",
   "execution_count": 15,
   "metadata": {},
   "outputs": [
    {
     "name": "stdout",
     "output_type": "stream",
     "text": [
      "Guess the secret number from 1 to 10 : 3\n",
      "player loses and computer wins\n",
      "The secret number is: 2 and the guess number: 3 \n",
      "player guessed HIGHER number than secret number\n",
      "number of tries left:  5\n",
      " \n",
      "Guess the secret number from 1 to 10 : 7\n",
      "player loses and computer wins\n",
      "The secret number is: 8 and the guess number: 7 \n",
      "player guessed LOWER number than secret number\n",
      "number of tries left:  4\n",
      " \n",
      "Guess the secret number from 1 to 10 : 2\n",
      "player loses and computer wins\n",
      "The secret number is: 3 and the guess number: 2 \n",
      "player guessed LOWER number than secret number\n",
      "number of tries left:  3\n",
      " \n",
      "Guess the secret number from 1 to 10 : 8\n",
      "player loses and computer wins\n",
      "The secret number is: 7 and the guess number: 8 \n",
      "player guessed HIGHER number than secret number\n",
      "number of tries left:  2\n",
      " \n",
      "Guess the secret number from 1 to 10 : 2\n",
      "player loses and computer wins\n",
      "The secret number is: 5 and the guess number: 2 \n",
      "player guessed LOWER number than secret number\n",
      "number of tries left:  1\n",
      " \n",
      "Guess the secret number from 1 to 10 : 0\n",
      "player loses and computer wins\n",
      "The secret number is: 4 and the guess number: 0 \n",
      "player guessed LOWER number than secret number\n",
      "number of tries left:  0\n",
      " \n"
     ]
    }
   ],
   "source": [
    "max_tries = 6\n",
    "guess_count = 0\n",
    "while guess_count<max_tries:\n",
    "    secret_number = random.randint(1,10)\n",
    "    guess_number = int(input(\"Guess the secret number from 1 to 10 : \"))\n",
    "    if guess_number==secret_number :\n",
    "        print(\"player wins and computer loses\")\n",
    "        break\n",
    "    else:\n",
    "        guess_count = guess_count + 1\n",
    "        \n",
    "        print(\"player loses and computer wins\") \n",
    "        print(\"The secret number is: {} and the guess number: {} \".format(secret_number, guess_number))\n",
    "        if guess_number>secret_number :\n",
    "            print(\"player guessed HIGHER number than secret number\")\n",
    "        else:\n",
    "            print(\"player guessed LOWER number than secret number\")\n",
    "    print(\"number of tries left: \",max_tries-guess_count)        \n",
    "    print(\" \")        "
   ]
  },
  {
   "cell_type": "markdown",
   "metadata": {},
   "source": [
    "## challenge - 7 :"
   ]
  },
  {
   "cell_type": "raw",
   "metadata": {},
   "source": [
    "Lets give the option of try again to the player"
   ]
  },
  {
   "cell_type": "code",
   "execution_count": 17,
   "metadata": {},
   "outputs": [
    {
     "name": "stdout",
     "output_type": "stream",
     "text": [
      "Guess the secret number from 1 to 10 : 2\n",
      "player loses and computer wins\n",
      "The secret number is: 1 and the guess number: 2 \n",
      "player guessed HIGHER number than secret number\n",
      "number of tries left:  5\n",
      " \n",
      "Guess the secret number from 1 to 10 : 4\n",
      "player loses and computer wins\n",
      "The secret number is: 8 and the guess number: 4 \n",
      "player guessed LOWER number than secret number\n",
      "number of tries left:  4\n",
      " \n",
      "Guess the secret number from 1 to 10 : 7\n",
      "player loses and computer wins\n",
      "The secret number is: 10 and the guess number: 7 \n",
      "player guessed LOWER number than secret number\n",
      "number of tries left:  3\n",
      " \n",
      "Guess the secret number from 1 to 10 : 3\n",
      "player loses and computer wins\n",
      "The secret number is: 2 and the guess number: 3 \n",
      "player guessed HIGHER number than secret number\n",
      "number of tries left:  2\n",
      " \n",
      "Guess the secret number from 1 to 10 : 8\n",
      "player loses and computer wins\n",
      "The secret number is: 5 and the guess number: 8 \n",
      "player guessed HIGHER number than secret number\n",
      "number of tries left:  1\n",
      " \n",
      "Guess the secret number from 1 to 10 : 4\n",
      "player loses and computer wins\n",
      "The secret number is: 3 and the guess number: 4 \n",
      "player guessed HIGHER number than secret number\n",
      "number of tries left:  0\n",
      " \n",
      "LET'S TRY AGAIN!!!\n",
      " \n",
      "Guess the secret number from 1 to 10 : 7\n",
      "player wins and computer loses\n"
     ]
    }
   ],
   "source": [
    "import random\n",
    "max_tries = 6\n",
    "guess_count = 0\n",
    "while True:\n",
    "    if max_tries== guess_count : \n",
    "        print(\"LET'S TRY AGAIN!!!\")\n",
    "        print(\" \")\n",
    "        max_tries = 6\n",
    "        guess_count = 0\n",
    "        continue\n",
    "    elif guess_count<max_tries:\n",
    "        secret_number = random.randint(1,10)\n",
    "        guess_number = int(input(\"Guess the secret number from 1 to 10 : \"))\n",
    "        if guess_number==secret_number :\n",
    "            print(\"player wins and computer loses\")\n",
    "            break\n",
    "        else:\n",
    "            guess_count = guess_count + 1\n",
    "            print(\"player loses and computer wins\") \n",
    "            print(\"The secret number is: {} and the guess number: {} \".format(secret_number, guess_number))\n",
    "            if guess_number>secret_number :\n",
    "                print(\"player guessed HIGHER number than secret number\")\n",
    "            else:\n",
    "                print(\"player guessed LOWER number than secret number\")\n",
    "        print(\"number of tries left: \",max_tries-guess_count)        \n",
    "        print(\" \")"
   ]
  },
  {
   "cell_type": "markdown",
   "metadata": {},
   "source": [
    "## challenge - 8 :"
   ]
  },
  {
   "cell_type": "raw",
   "metadata": {},
   "source": [
    "If player submits non integer, print try again."
   ]
  },
  {
   "cell_type": "code",
   "execution_count": 22,
   "metadata": {},
   "outputs": [
    {
     "name": "stdout",
     "output_type": "stream",
     "text": [
      "Guess the secret number from 1 to 10 : \n",
      "Player didn't guess any number,try again\n",
      " \n",
      "Guess the secret number from 1 to 10 : 3\n",
      "player loses and computer wins\n",
      "The secret number is: 10 and the guess number: 3 \n",
      "player guessed LOWER number than secret number\n",
      "number of tries left:  5\n",
      " \n",
      "Guess the secret number from 1 to 10 : 6\n",
      "player loses and computer wins\n",
      "The secret number is: 7 and the guess number: 6 \n",
      "player guessed LOWER number than secret number\n",
      "number of tries left:  4\n",
      " \n",
      "Guess the secret number from 1 to 10 : 1\n",
      "player loses and computer wins\n",
      "The secret number is: 10 and the guess number: 1 \n",
      "player guessed LOWER number than secret number\n",
      "number of tries left:  3\n",
      " \n",
      "Guess the secret number from 1 to 10 : 7\n",
      "player loses and computer wins\n",
      "The secret number is: 4 and the guess number: 7 \n",
      "player guessed HIGHER number than secret number\n",
      "number of tries left:  2\n",
      " \n",
      "Guess the secret number from 1 to 10 : 3\n",
      "player loses and computer wins\n",
      "The secret number is: 2 and the guess number: 3 \n",
      "player guessed HIGHER number than secret number\n",
      "number of tries left:  1\n",
      " \n",
      "Guess the secret number from 1 to 10 : 9\n",
      "player loses and computer wins\n",
      "The secret number is: 7 and the guess number: 9 \n",
      "player guessed HIGHER number than secret number\n",
      "number of tries left:  0\n",
      " \n",
      "LET'S TRY AGAIN!!!\n",
      " \n",
      "Guess the secret number from 1 to 10 : 6\n",
      "player wins and computer loses\n"
     ]
    }
   ],
   "source": [
    "import random\n",
    "max_tries = 6\n",
    "guess_count = 0\n",
    "while True:\n",
    "    if max_tries== guess_count : \n",
    "        print(\"LET'S TRY AGAIN!!!\")\n",
    "        print(\" \")\n",
    "        max_tries = 6\n",
    "        guess_count = 0\n",
    "        continue\n",
    "    elif guess_count<max_tries:\n",
    "        secret_number = random.randint(1,10)\n",
    "        guess_number = input(\"Guess the secret number from 1 to 10 : \")\n",
    "        if not guess_number:\n",
    "            print(\"Player didn't guess any number,try again\")\n",
    "            print(\" \")\n",
    "            continue\n",
    "        guess_number = int(guess_number)\n",
    "        if guess_number==secret_number :\n",
    "            print(\"player wins and computer loses\")\n",
    "            break\n",
    "        else:\n",
    "            guess_count = guess_count + 1\n",
    "            print(\"player loses and computer wins\") \n",
    "            print(\"The secret number is: {} and the guess number: {} \".format(secret_number, guess_number))\n",
    "            if guess_number>secret_number :\n",
    "                print(\"player guessed HIGHER number than secret number\")\n",
    "            else:\n",
    "                print(\"player guessed LOWER number than secret number\")\n",
    "        print(\"number of tries left: \",max_tries-guess_count)        \n",
    "        print(\" \")"
   ]
  },
  {
   "cell_type": "markdown",
   "metadata": {},
   "source": []
  }
 ],
 "metadata": {
  "kernelspec": {
   "display_name": "Python 3",
   "language": "python",
   "name": "python3"
  },
  "language_info": {
   "codemirror_mode": {
    "name": "ipython",
    "version": 3
   },
   "file_extension": ".py",
   "mimetype": "text/x-python",
   "name": "python",
   "nbconvert_exporter": "python",
   "pygments_lexer": "ipython3",
   "version": "3.8.3"
  }
 },
 "nbformat": 4,
 "nbformat_minor": 4
}
