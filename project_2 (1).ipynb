{
 "cells": [
  {
   "cell_type": "markdown",
   "metadata": {},
   "source": [
    "# Shopping List Application"
   ]
  },
  {
   "cell_type": "markdown",
   "metadata": {},
   "source": [
    "## Challenge - 1 :"
   ]
  },
  {
   "cell_type": "raw",
   "metadata": {},
   "source": [
    "We are going to make a \"Shopping List\" app. \n",
    "    Run the script to start using it.\n",
    "Put new things into the list one at a time\n",
    "Enter the word DONE - in all CAPS - to QUIT the program\n",
    "And once i quit, I want the app to show me everything thats on my list."
   ]
  },
  {
   "cell_type": "markdown",
   "metadata": {},
   "source": [
    "Task - 1 : Create a list that holds all our items"
   ]
  },
  {
   "cell_type": "code",
   "execution_count": 1,
   "metadata": {},
   "outputs": [],
   "source": [
    "shopping_list = []  "
   ]
  },
  {
   "cell_type": "markdown",
   "metadata": {},
   "source": [
    "Task - 2 : Provide the necessary instructions such as \"HOW TO USE THE APPLICATION\"?"
   ]
  },
  {
   "cell_type": "code",
   "execution_count": 2,
   "metadata": {},
   "outputs": [
    {
     "name": "stdout",
     "output_type": "stream",
     "text": [
      "\n",
      "    Pick the items and add them to the shopping_list\n",
      "    Enter 'DONE' to QUIT the program\n",
      "\n"
     ]
    }
   ],
   "source": [
    "print(\n",
    "\"\"\"\n",
    "    Pick the items and add them to the shopping_list\n",
    "    Enter 'DONE' to QUIT the program\n",
    "\"\"\"    \n",
    ")"
   ]
  },
  {
   "cell_type": "markdown",
   "metadata": {},
   "source": [
    "Task - 3 : Ask the Customer to select the items"
   ]
  },
  {
   "cell_type": "code",
   "execution_count": 3,
   "metadata": {},
   "outputs": [
    {
     "name": "stdout",
     "output_type": "stream",
     "text": [
      "select an item:coke\n",
      "coke\n"
     ]
    }
   ],
   "source": [
    "new_item = print(input(\"select an item:\"))"
   ]
  },
  {
   "cell_type": "raw",
   "metadata": {},
   "source": [
    "Task - 4 : Add all the new items to our shopping list\n",
    "Task - 5 : Be able to quit the app"
   ]
  },
  {
   "cell_type": "code",
   "execution_count": 4,
   "metadata": {},
   "outputs": [
    {
     "name": "stdout",
     "output_type": "stream",
     "text": [
      "New Item:flour\n",
      "New Item:maida\n",
      "New Item:oil\n",
      "New Item:DONE\n"
     ]
    }
   ],
   "source": [
    "shopping_list=[]\n",
    "while True:\n",
    "    new_item = input(\"New Item:\")\n",
    "    if new_item=='DONE':\n",
    "        break\n",
    "    else :  \n",
    "        shopping_list.append(new_item)        "
   ]
  },
  {
   "cell_type": "markdown",
   "metadata": {},
   "source": [
    "Task - 6 : Print the items in the shopping list "
   ]
  },
  {
   "cell_type": "code",
   "execution_count": 5,
   "metadata": {},
   "outputs": [
    {
     "name": "stdout",
     "output_type": "stream",
     "text": [
      "flour\n",
      "maida\n",
      "oil\n"
     ]
    }
   ],
   "source": [
    "for items in shopping_list:\n",
    "    print(items)"
   ]
  },
  {
   "cell_type": "code",
   "execution_count": 6,
   "metadata": {},
   "outputs": [
    {
     "name": "stdout",
     "output_type": "stream",
     "text": [
      "\n",
      "    Pick the items and add them to the shopping_list\n",
      "    Enter 'DONE' to QUIT the program\n",
      "\n",
      "Add New Item : milk\n",
      "Add New Item : sugar\n",
      "Add New Item : butter\n",
      "Add New Item : maida\n",
      "Add New Item : chocolate \n",
      "Add New Item : DONE\n",
      " \n",
      "Here is your list of items:\n",
      "milk\n",
      "sugar\n",
      "butter\n",
      "maida\n",
      "chocolate \n"
     ]
    }
   ],
   "source": [
    "shopping_list=[]\n",
    "print(\n",
    "\"\"\"\n",
    "    Pick the items and add them to the shopping_list\n",
    "    Enter 'DONE' to QUIT the program\n",
    "\"\"\"    \n",
    ")\n",
    "while True:\n",
    "    new_item = input(\"Add New Item : \")\n",
    "    if new_item=='DONE':\n",
    "        break\n",
    "    shopping_list.append(new_item)\n",
    "print(\" \")    \n",
    "print(\"Here is your list of items:\")\n",
    "for items in shopping_list:\n",
    "    print(items)"
   ]
  },
  {
   "cell_type": "markdown",
   "metadata": {},
   "source": [
    "## Challenge - 2 :"
   ]
  },
  {
   "cell_type": "raw",
   "metadata": {},
   "source": [
    "If I type SHOW, \n",
    "    I should be able to see what is currently in the list\n",
    "\n",
    "If I type HELP, \n",
    "    I should be able to see all the help for these special commands"
   ]
  },
  {
   "cell_type": "markdown",
   "metadata": {},
   "source": [
    "Task - 1 : Define a SHOW command in the application"
   ]
  },
  {
   "cell_type": "code",
   "execution_count": 8,
   "metadata": {},
   "outputs": [
    {
     "name": "stdout",
     "output_type": "stream",
     "text": [
      "\n",
      "    Pick the items and add them to the shopping_list\n",
      "    Enter 'DONE' to QUIT the program\n",
      "\n",
      "Add Next Item : carrot\n",
      "Add Next Item : paneer\n",
      "Add Next Item : mushroom\n",
      "Add Next Item : potato\n",
      "Add Next Item : SHOW\n",
      " \n",
      "Here is the list of your current items : \n",
      "carrot\n",
      "paneer\n",
      "mushroom\n",
      "potato\n",
      " \n",
      "Add Next Item : orange\n",
      "Add Next Item : banana\n",
      "Add Next Item : DONE\n",
      " \n",
      "Here is your list of items:\n",
      "carrot\n",
      "paneer\n",
      "mushroom\n",
      "potato\n",
      "orange\n",
      "banana\n"
     ]
    }
   ],
   "source": [
    "shopping_list=[]\n",
    "def show_ftn():\n",
    "    print(\" \")\n",
    "    print(\"Here is the list of your current items : \")\n",
    "    for items in shopping_list:\n",
    "        print(items)\n",
    "    print(\" \")   \n",
    "\n",
    "print(\n",
    "\"\"\"\n",
    "    Pick the items and add them to the shopping_list\n",
    "    Enter 'DONE' to QUIT the program\n",
    "\"\"\"    \n",
    ")\n",
    "while True:\n",
    "    new_item = input(\"Add Next Item : \")\n",
    "    if new_item=='SHOW':\n",
    "        show_ftn()\n",
    "        continue\n",
    "    if new_item=='DONE':\n",
    "        break\n",
    "    shopping_list.append(new_item)\n",
    "print(\" \")    \n",
    "print(\"Here is your list of items:\")\n",
    "for items in shopping_list:\n",
    "    print(items)"
   ]
  },
  {
   "cell_type": "markdown",
   "metadata": {},
   "source": [
    "Task - 2 : Defibe a HELP command in the application"
   ]
  },
  {
   "cell_type": "code",
   "execution_count": 9,
   "metadata": {},
   "outputs": [
    {
     "name": "stdout",
     "output_type": "stream",
     "text": [
      "Add Next Item : bread\n",
      "Add Next Item : jam\n",
      "Add Next Item : HELP\n",
      "\n",
      "        Pick the items and add them to the shopping_list\n",
      "        There is no discount on dairy products\n",
      "        Enter 'SHOW' to see all the elements in the list\n",
      "        Enter 'DONE' to QUIT the program\n",
      "    \n",
      "Add Next Item : SHOW\n",
      " \n",
      "Here is the list of your current items : \n",
      "bread\n",
      "jam\n",
      " \n",
      "Add Next Item : DONE\n",
      " \n",
      "Here is your list of items:\n",
      "bread\n",
      "jam\n"
     ]
    }
   ],
   "source": [
    "shopping_list=[]\n",
    "def show_ftn():\n",
    "    print(\" \")\n",
    "    print(\"Here is the list of your current items : \")\n",
    "    for items in shopping_list:\n",
    "        print(items)\n",
    "    print(\" \") \n",
    "        \n",
    "def help_ftn():\n",
    "    print(\n",
    "    \"\"\"\n",
    "        Pick the items and add them to the shopping_list\n",
    "        There is no discount on dairy products\n",
    "        Enter 'SHOW' to see all the elements in the list\n",
    "        Enter 'DONE' to QUIT the program\n",
    "    \"\"\"    \n",
    "    )\n",
    "    \n",
    "while True:\n",
    "    new_item = input(\"Add Next Item : \")\n",
    "    if new_item=='HELP':\n",
    "        help_ftn()\n",
    "        continue\n",
    "    if new_item=='SHOW':\n",
    "        show_ftn()\n",
    "        continue\n",
    "    if new_item=='DONE':\n",
    "        break\n",
    "    shopping_list.append(new_item)\n",
    "print(\" \")\n",
    "print(\"Here is your list of items:\")\n",
    "for items in shopping_list:\n",
    "    print(items)"
   ]
  },
  {
   "cell_type": "markdown",
   "metadata": {},
   "source": [
    "Task - 3 : Define a function for adding the items into the list  "
   ]
  },
  {
   "cell_type": "code",
   "execution_count": 10,
   "metadata": {},
   "outputs": [
    {
     "name": "stdout",
     "output_type": "stream",
     "text": [
      "Add Next Item : cake\n",
      "Item added successfully!!!\n",
      "Add Next Item : kit-kat\n",
      "Item added successfully!!!\n",
      "Add Next Item : silk\n",
      "Item added successfully!!!\n",
      "Add Next Item : galaxy\n",
      "Item added successfully!!!\n",
      "Add Next Item : coke\n",
      "Item added successfully!!!\n",
      "Add Next Item : lays\n",
      "Item added successfully!!!\n",
      "Add Next Item : HELP\n",
      "\n",
      "        Pick the items and add them to the shopping_list\n",
      "        There is no discount on dairy products\n",
      "        Enter 'SHOW' to see all the elements in the list\n",
      "        Enter 'DONE' to QUIT the program\n",
      "    \n",
      "Add Next Item : SHOW\n",
      " \n",
      "Here is the list of your current items : \n",
      "cake\n",
      "kit-kat\n",
      "silk\n",
      "galaxy\n",
      "coke\n",
      "lays\n",
      " \n",
      "Add Next Item : cookies\n",
      "Item added successfully!!!\n",
      "Add Next Item : DONE\n",
      " \n",
      "Here is your list of items:\n",
      "cake\n",
      "kit-kat\n",
      "silk\n",
      "galaxy\n",
      "coke\n",
      "lays\n",
      "cookies\n"
     ]
    }
   ],
   "source": [
    "shopping_list=[]\n",
    "def show_ftn():\n",
    "    print(\" \")\n",
    "    print(\"Here is the list of your current items : \")\n",
    "    for items in shopping_list:\n",
    "        print(items)\n",
    "    print(\" \") \n",
    "        \n",
    "def help_ftn():\n",
    "    print(\n",
    "    \"\"\"\n",
    "        Pick the items and add them to the shopping_list\n",
    "        There is no discount on dairy products\n",
    "        Enter 'SHOW' to see all the elements in the list\n",
    "        Enter 'DONE' to QUIT the program\n",
    "    \"\"\"    \n",
    "    )\n",
    "    \n",
    "def add_to_list (new_item):\n",
    "    shopping_list.append(new_item)\n",
    "    print(\"Item added successfully!!!\")\n",
    "    \n",
    "while True:\n",
    "    new_item = input(\"Add Next Item : \")\n",
    "    if new_item=='HELP':\n",
    "        help_ftn()\n",
    "        continue\n",
    "    if new_item=='SHOW':\n",
    "        show_ftn()\n",
    "        continue\n",
    "    if new_item=='DONE':\n",
    "        break\n",
    "    if new_item not in shopping_list:\n",
    "        add_to_list(new_item)\n",
    "        continue\n",
    "print(\" \")        \n",
    "print(\"Here is your list of items:\")\n",
    "for items in shopping_list:\n",
    "    print(items)"
   ]
  },
  {
   "cell_type": "markdown",
   "metadata": {},
   "source": [
    "Task - 4 : Optimise the code"
   ]
  },
  {
   "cell_type": "code",
   "execution_count": 11,
   "metadata": {},
   "outputs": [
    {
     "name": "stdout",
     "output_type": "stream",
     "text": [
      "Add Next Item : soup powder\n",
      "Item added successfully!!!\n",
      "Add Next Item : ramen\n",
      "Item added successfully!!!\n",
      "Add Next Item : corn flour\n",
      "Item added successfully!!!\n",
      "Add Next Item : baking powder\n",
      "Item added successfully!!!\n",
      "Add Next Item : SHOW\n",
      " \n",
      "Here is the list of your current items : \n",
      "soup powder\n",
      "ramen\n",
      "corn flour\n",
      "baking powder\n",
      " \n",
      "Add Next Item : HELP\n",
      "\n",
      "        Pick the items and add them to the shopping_list\n",
      "        There is no discount on dairy products\n",
      "        Enter 'SHOW' to see all the elements in the list\n",
      "        Enter 'DONE' to QUIT the program\n",
      "    \n",
      "Add Next Item : DONE\n",
      " \n",
      "Here is your list of items:\n",
      "soup powder\n",
      "ramen\n",
      "corn flour\n",
      "baking powder\n"
     ]
    }
   ],
   "source": [
    "shopping_list=[]\n",
    "def show_ftn():\n",
    "    print(\" \")\n",
    "    print(\"Here is the list of your current items : \")\n",
    "    for items in shopping_list:\n",
    "        print(items)\n",
    "    print(\" \") \n",
    "    \n",
    "def help_ftn():\n",
    "    print(\n",
    "    \"\"\"\n",
    "        Pick the items and add them to the shopping_list\n",
    "        There is no discount on dairy products\n",
    "        Enter 'SHOW' to see all the elements in the list\n",
    "        Enter 'DONE' to QUIT the program\n",
    "    \"\"\"    \n",
    "    )\n",
    "    \n",
    "def add_to_list (new_item):\n",
    "    shopping_list.append(new_item)\n",
    "    print(\"Item added successfully!!!\")\n",
    "    \n",
    "while True:\n",
    "    new_item = input(\"Add Next Item : \")\n",
    "    if new_item=='HELP':\n",
    "        help_ftn()\n",
    "        continue\n",
    "    elif new_item=='SHOW':\n",
    "        show_ftn()\n",
    "        continue\n",
    "    elif new_item=='DONE':\n",
    "        break\n",
    "    elif new_item not in shopping_list:\n",
    "        add_to_list(new_item)\n",
    "        continue\n",
    "print(\" \")        \n",
    "print(\"Here is your list of items:\")\n",
    "for items in shopping_list:\n",
    "    print(items)"
   ]
  },
  {
   "cell_type": "markdown",
   "metadata": {},
   "source": [
    "## challenge - 3 :"
   ]
  },
  {
   "cell_type": "raw",
   "metadata": {},
   "source": [
    "Task - 1 : User can enter SHOW or Show or show, \n",
    "            similar for DONE and HELP, but the program should do the required job\n",
    "Task - 2 : Show the item in the list serially starting from 1"
   ]
  },
  {
   "cell_type": "markdown",
   "metadata": {},
   "source": [
    "Task - 1 : The application must work normally, when the customer gives input as \"show or SHOW or Show\",similar with the other two functions "
   ]
  },
  {
   "cell_type": "code",
   "execution_count": 12,
   "metadata": {},
   "outputs": [
    {
     "name": "stdout",
     "output_type": "stream",
     "text": [
      "Add Next Item : eggs\n",
      "Item added successfully!!!\n",
      "Add Next Item : cheese\n",
      "Item added successfully!!!\n",
      "Add Next Item : milk\n",
      "Item added successfully!!!\n",
      "Add Next Item : butter\n",
      "Item added successfully!!!\n",
      "Add Next Item : ghee\n",
      "Item added successfully!!!\n",
      "Add Next Item : show\n",
      " \n",
      "Here is the list of your current items : \n",
      "eggs\n",
      "cheese\n",
      "milk\n",
      "butter\n",
      "ghee\n",
      " \n",
      "Add Next Item : HELP\n",
      "\n",
      "        Pick the items and add them to the shopping_list\n",
      "        There is no discount on dairy products\n",
      "        Enter 'SHOW' to see all the elements in the list\n",
      "        Enter 'DONE' to QUIT the program\n",
      "    \n",
      "Add Next Item : Done\n",
      " \n",
      "Here is your list of items:\n",
      "eggs\n",
      "cheese\n",
      "milk\n",
      "butter\n",
      "ghee\n"
     ]
    }
   ],
   "source": [
    "shopping_list=[]\n",
    "def show_ftn():\n",
    "    print(\" \")\n",
    "    print(\"Here is the list of your current items : \")\n",
    "    for items in shopping_list:\n",
    "        print(items)\n",
    "    print(\" \")\n",
    "    \n",
    "def help_ftn():\n",
    "    print(\n",
    "    \"\"\"\n",
    "        Pick the items and add them to the shopping_list\n",
    "        There is no discount on dairy products\n",
    "        Enter 'SHOW' to see all the elements in the list\n",
    "        Enter 'DONE' to QUIT the program\n",
    "    \"\"\"    \n",
    "    )\n",
    "    \n",
    "def add_to_list (new_item):\n",
    "    shopping_list.append(new_item)\n",
    "    print(\"Item added successfully!!!\")\n",
    "    \n",
    "while True:\n",
    "    new_item = input(\"Add Next Item : \")\n",
    "    if new_item.upper()=='HELP':\n",
    "        help_ftn()\n",
    "        continue\n",
    "    elif new_item.upper()=='SHOW':\n",
    "        show_ftn()\n",
    "        continue\n",
    "    elif new_item.upper()=='DONE':\n",
    "        break\n",
    "    elif new_item not in shopping_list:\n",
    "        add_to_list(new_item)\n",
    "        continue\n",
    "print(\" \")        \n",
    "print(\"Here is your list of items:\")\n",
    "for items in shopping_list:\n",
    "    print(items)"
   ]
  },
  {
   "cell_type": "markdown",
   "metadata": {},
   "source": [
    "Task - 2 : Show the item in the list serially starting from 1"
   ]
  },
  {
   "cell_type": "code",
   "execution_count": 14,
   "metadata": {},
   "outputs": [
    {
     "name": "stdout",
     "output_type": "stream",
     "text": [
      "Add Next Item : badam\n",
      "Item added successfully!!!\n",
      "Add Next Item : kaju\n",
      "Item added successfully!!!\n",
      "Add Next Item : pista\n",
      "Item added successfully!!!\n",
      "Add Next Item : walnut\n",
      "Item added successfully!!!\n",
      "Add Next Item : HELP\n",
      "\n",
      "        Pick the items and add them to the shopping_list\n",
      "        There is no discount on dairy products\n",
      "        Enter 'SHOW' to see all the elements in the list\n",
      "        Enter 'DONE' to QUIT the program\n",
      "    \n",
      "Add Next Item : milk\n",
      "Item added successfully!!!\n",
      "Add Next Item : curd\n",
      "Item added successfully!!!\n",
      "Add Next Item : cheese\n",
      "Item added successfully!!!\n",
      "Add Next Item : butter\n",
      "Item added successfully!!!\n",
      "Add Next Item : Show\n",
      " \n",
      "Here is the list of your current items : \n",
      "1  :  badam\n",
      "2  :  kaju\n",
      "3  :  pista\n",
      "4  :  walnut\n",
      "5  :  milk\n",
      "6  :  curd\n",
      "7  :  cheese\n",
      "8  :  butter\n",
      " \n",
      "Add Next Item : done\n",
      " \n",
      "Here is your list of items:\n",
      "1  :  badam\n",
      "2  :  kaju\n",
      "3  :  pista\n",
      "4  :  walnut\n",
      "5  :  milk\n",
      "6  :  curd\n",
      "7  :  cheese\n",
      "8  :  butter\n"
     ]
    }
   ],
   "source": [
    "shopping_list=[]\n",
    "def show_ftn():\n",
    "    print(\" \")\n",
    "    print(\"Here is the list of your current items : \")\n",
    "    for index,items in enumerate(shopping_list,start = 1):\n",
    "        print(index,\" : \",items)\n",
    "    print(\" \")\n",
    "    \n",
    "def help_ftn():\n",
    "    print(\n",
    "    \"\"\"\n",
    "        Pick the items and add them to the shopping_list\n",
    "        There is no discount on dairy products\n",
    "        Enter 'SHOW' to see all the elements in the list\n",
    "        Enter 'DONE' to QUIT the program\n",
    "    \"\"\"    \n",
    "    )\n",
    "    \n",
    "def add_to_list (new_item):\n",
    "    shopping_list.append(new_item)\n",
    "    print(\"Item added successfully!!!\")\n",
    "    \n",
    "while True:\n",
    "    new_item = input(\"Add Next Item : \")\n",
    "    if new_item.upper()=='HELP':\n",
    "        help_ftn()\n",
    "        continue\n",
    "    elif new_item.upper()=='SHOW':\n",
    "        show_ftn()\n",
    "        continue\n",
    "    elif new_item.upper()=='DONE':\n",
    "        break\n",
    "    elif new_item not in shopping_list:\n",
    "        add_to_list(new_item)\n",
    "        continue\n",
    "print(\" \")\n",
    "print(\"Here is your list of items:\")\n",
    "for index,items in enumerate(shopping_list,start = 1):\n",
    "    print(index,\" : \",items) "
   ]
  },
  {
   "cell_type": "markdown",
   "metadata": {},
   "source": [
    "## Challenge - 4 :"
   ]
  },
  {
   "cell_type": "raw",
   "metadata": {},
   "source": [
    "There should be a functionality to remove items from the list at a specific index using REMOVE"
   ]
  },
  {
   "cell_type": "code",
   "execution_count": 15,
   "metadata": {},
   "outputs": [
    {
     "name": "stdout",
     "output_type": "stream",
     "text": [
      "Add Next Item : flour\n",
      "Item added successfully!!!\n",
      "Add Next Item : butter\n",
      "Item added successfully!!!\n",
      "Add Next Item : honey\n",
      "Item added successfully!!!\n",
      "Add Next Item : milk powder\n",
      "Item added successfully!!!\n",
      "Add Next Item : baking powder\n",
      "Item added successfully!!!\n",
      "Add Next Item : jam\n",
      "Item added successfully!!!\n",
      "Add Next Item : help\n",
      "\n",
      "        Pick the items and add them to the shopping_list\n",
      "        There is no discount on dairy products\n",
      "        Enter 'SHOW' to see all the elements in the list\n",
      "        Enter 'REMOVE' to delete the item in the list\n",
      "        Enter 'DONE' to QUIT the program\n",
      "    \n",
      "Add Next Item : REMOVE\n",
      " \n",
      "Here is the list of your current items : \n",
      "1  :  flour\n",
      "2  :  butter\n",
      "3  :  honey\n",
      "4  :  milk powder\n",
      "5  :  baking powder\n",
      "6  :  jam\n",
      " \n",
      "enter the item to be removed:jam\n",
      "Item removed successfully\n",
      " \n",
      "Add Next Item : REMOVE\n",
      " \n",
      "Here is the list of your current items : \n",
      "1  :  flour\n",
      "2  :  butter\n",
      "3  :  honey\n",
      "4  :  milk powder\n",
      "5  :  baking powder\n",
      " \n",
      "enter the item to be removed:milk\n",
      "Item is not in the list \n",
      " \n",
      "Add Next Item : show\n",
      " \n",
      "Here is the list of your current items : \n",
      "1  :  flour\n",
      "2  :  butter\n",
      "3  :  honey\n",
      "4  :  milk powder\n",
      "5  :  baking powder\n",
      " \n",
      "Add Next Item : Done\n",
      " \n",
      "Here is your list of items:\n",
      "1  :  flour\n",
      "2  :  butter\n",
      "3  :  honey\n",
      "4  :  milk powder\n",
      "5  :  baking powder\n"
     ]
    }
   ],
   "source": [
    "shopping_list=[]\n",
    "def show_ftn():\n",
    "    print(\" \")\n",
    "    print(\"Here is the list of your current items : \")\n",
    "    for index,items in enumerate(shopping_list,start = 1):\n",
    "        print(index,\" : \",items)\n",
    "    print(\" \")    \n",
    "        \n",
    "def help_ftn():\n",
    "    print(\n",
    "    \"\"\"\n",
    "        Pick the items and add them to the shopping_list\n",
    "        There is no discount on dairy products\n",
    "        Enter 'SHOW' to see all the elements in the list\n",
    "        Enter 'REMOVE' to delete the item in the list\n",
    "        Enter 'DONE' to QUIT the program\n",
    "    \"\"\"    \n",
    "    )\n",
    "    \n",
    "def add_to_list (new_item):\n",
    "    shopping_list.append(new_item)\n",
    "    print(\"Item added successfully!!!\")\n",
    "    \n",
    "def item_to_remove(new_item):\n",
    "    show_ftn()\n",
    "    remove_item = input(\"enter the item to be removed:\")\n",
    "    if remove_item in shopping_list:\n",
    "        shopping_list.remove(remove_item)\n",
    "        print(\"Item removed successfully\")\n",
    "        print(\" \")\n",
    "    else:\n",
    "        print(\"Item is not in the list \")\n",
    "        print(\" \")\n",
    "while True:\n",
    "    new_item = input(\"Add Next Item : \")\n",
    "    if new_item.upper()=='HELP':\n",
    "        help_ftn()\n",
    "        continue\n",
    "    elif new_item.upper()=='SHOW':\n",
    "        show_ftn()\n",
    "        continue\n",
    "    elif new_item.upper()=='DONE':\n",
    "        break\n",
    "    elif new_item.upper()=='REMOVE' :\n",
    "        item_to_remove(new_item)\n",
    "        continue\n",
    "    elif new_item not in shopping_list:\n",
    "        add_to_list(new_item)\n",
    "        continue\n",
    "print(\" \")        \n",
    "print(\"Here is your list of items:\")\n",
    "for index,items in enumerate(shopping_list,start = 1):\n",
    "    print(index,\" : \",items)   "
   ]
  }
 ],
 "metadata": {
  "kernelspec": {
   "display_name": "Python 3",
   "language": "python",
   "name": "python3"
  },
  "language_info": {
   "codemirror_mode": {
    "name": "ipython",
    "version": 3
   },
   "file_extension": ".py",
   "mimetype": "text/x-python",
   "name": "python",
   "nbconvert_exporter": "python",
   "pygments_lexer": "ipython3",
   "version": "3.8.3"
  }
 },
 "nbformat": 4,
 "nbformat_minor": 4
}
